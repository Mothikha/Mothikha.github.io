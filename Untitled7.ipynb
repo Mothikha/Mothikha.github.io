{
  "nbformat": 4,
  "nbformat_minor": 0,
  "metadata": {
    "colab": {
      "name": "Untitled7.ipynb",
      "provenance": [],
      "authorship_tag": "ABX9TyN7NBF298AxPmDfL3xuKqr7",
      "include_colab_link": true
    },
    "kernelspec": {
      "name": "python3",
      "display_name": "Python 3"
    }
  },
  "cells": [
    {
      "cell_type": "markdown",
      "metadata": {
        "id": "view-in-github",
        "colab_type": "text"
      },
      "source": [
        "<a href=\"https://colab.research.google.com/github/Mothikha/Mothikha.github.io/blob/master/Untitled7.ipynb\" target=\"_parent\"><img src=\"https://colab.research.google.com/assets/colab-badge.svg\" alt=\"Open In Colab\"/></a>"
      ]
    },
    {
      "cell_type": "markdown",
      "metadata": {
        "id": "aCD_MpANpzVw",
        "colab_type": "text"
      },
      "source": [
        "PYTHON ESSENTIALS ASSIGNMENT-4"
      ]
    },
    {
      "cell_type": "markdown",
      "metadata": {
        "id": "S7M2_e0rp2zQ",
        "colab_type": "text"
      },
      "source": [
        "1.Find all occurence of substring in the given string \"what we think we become; we are Python programmer\" Print index values"
      ]
    },
    {
      "cell_type": "markdown",
      "metadata": {
        "id": "6_jbbENQqA1p",
        "colab_type": "text"
      },
      "source": [
        "In [2]:"
      ]
    },
    {
      "cell_type": "code",
      "metadata": {
        "id": "cpS87mIJqLtn",
        "colab_type": "code",
        "colab": {
          "base_uri": "https://localhost:8080/",
          "height": 68
        },
        "outputId": "aa7e18ed-6596-4201-a790-dfe7caca9064"
      },
      "source": [
        "str1 = \"what we think we become; we are Python programmer\"\n",
        "print(str1.count(\"we\"))\n",
        "print(str1.count(\"we\",0,15))\n",
        "print(str1.count(\"a\"))"
      ],
      "execution_count": 1,
      "outputs": [
        {
          "output_type": "stream",
          "text": [
            "3\n",
            "1\n",
            "3\n"
          ],
          "name": "stdout"
        }
      ]
    },
    {
      "cell_type": "markdown",
      "metadata": {
        "id": "VZH36hgdqg4w",
        "colab_type": "text"
      },
      "source": [
        "1.With different kind of strings islower() and Isupper()"
      ]
    },
    {
      "cell_type": "markdown",
      "metadata": {
        "id": "c43-PkT4qqRf",
        "colab_type": "text"
      },
      "source": [
        "In [8]:"
      ]
    },
    {
      "cell_type": "code",
      "metadata": {
        "id": "U3e8IhQUqsmf",
        "colab_type": "code",
        "colab": {
          "base_uri": "https://localhost:8080/",
          "height": 34
        },
        "outputId": "d40a08bd-1836-4483-dc56-fb4c9905ba6b"
      },
      "source": [
        "string = \"BROWSER\"\n",
        "print(string.isupper())"
      ],
      "execution_count": 2,
      "outputs": [
        {
          "output_type": "stream",
          "text": [
            "True\n"
          ],
          "name": "stdout"
        }
      ]
    },
    {
      "cell_type": "markdown",
      "metadata": {
        "id": "eX_72-ztq0SO",
        "colab_type": "text"
      },
      "source": [
        "In [9]:"
      ]
    },
    {
      "cell_type": "code",
      "metadata": {
        "id": "nXoC94Ojq3-n",
        "colab_type": "code",
        "colab": {
          "base_uri": "https://localhost:8080/",
          "height": 34
        },
        "outputId": "53eac9e1-4b00-4198-c1d2-7933702121c2"
      },
      "source": [
        "string = \"GeeksForGeeks\"\n",
        "print(string.isupper())"
      ],
      "execution_count": 3,
      "outputs": [
        {
          "output_type": "stream",
          "text": [
            "False\n"
          ],
          "name": "stdout"
        }
      ]
    },
    {
      "cell_type": "markdown",
      "metadata": {
        "id": "uJkdPl2LrGO2",
        "colab_type": "text"
      },
      "source": [
        "In [10]:"
      ]
    },
    {
      "cell_type": "code",
      "metadata": {
        "id": "-LIKOxIdrG_3",
        "colab_type": "code",
        "colab": {
          "base_uri": "https://localhost:8080/",
          "height": 34
        },
        "outputId": "c5a926f1-632c-40ec-b231-162c9bf3555a"
      },
      "source": [
        "string = \"ANDROID\"\n",
        "print(string.islower())"
      ],
      "execution_count": 4,
      "outputs": [
        {
          "output_type": "stream",
          "text": [
            "False\n"
          ],
          "name": "stdout"
        }
      ]
    },
    {
      "cell_type": "markdown",
      "metadata": {
        "id": "K0p4aWKYrPuF",
        "colab_type": "text"
      },
      "source": [
        "In [11]:"
      ]
    },
    {
      "cell_type": "code",
      "metadata": {
        "id": "KPwNurP5rREN",
        "colab_type": "code",
        "colab": {
          "base_uri": "https://localhost:8080/",
          "height": 34
        },
        "outputId": "1125fcce-df51-49b7-9648-62e78535fad3"
      },
      "source": [
        "string = \"github\"\n",
        "print(string.islower())"
      ],
      "execution_count": 5,
      "outputs": [
        {
          "output_type": "stream",
          "text": [
            "True\n"
          ],
          "name": "stdout"
        }
      ]
    }
  ]
}