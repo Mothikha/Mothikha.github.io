{
  "nbformat": 4,
  "nbformat_minor": 0,
  "metadata": {
    "colab": {
      "name": "Untitled4.ipynb",
      "provenance": [],
      "authorship_tag": "ABX9TyMGRR4walmERQX6NXvaGPnR",
      "include_colab_link": true
    },
    "kernelspec": {
      "name": "python3",
      "display_name": "Python 3"
    }
  },
  "cells": [
    {
      "cell_type": "markdown",
      "metadata": {
        "id": "view-in-github",
        "colab_type": "text"
      },
      "source": [
        "<a href=\"https://colab.research.google.com/github/Mothikha/Mothikha.github.io/blob/master/Untitled4.ipynb\" target=\"_parent\"><img src=\"https://colab.research.google.com/assets/colab-badge.svg\" alt=\"Open In Colab\"/></a>"
      ]
    },
    {
      "cell_type": "code",
      "metadata": {
        "id": "qyLeBGMd0SPl",
        "colab_type": "code",
        "colab": {}
      },
      "source": [
        ""
      ],
      "execution_count": null,
      "outputs": []
    },
    {
      "cell_type": "markdown",
      "metadata": {
        "id": "nC8lgYsV07f0",
        "colab_type": "text"
      },
      "source": [
        "1.sum of n natural numbers with while loop"
      ]
    },
    {
      "cell_type": "code",
      "metadata": {
        "id": "D7A3OXmT0Stm",
        "colab_type": "code",
        "colab": {
          "base_uri": "https://localhost:8080/",
          "height": 51
        },
        "outputId": "db55369e-58b6-4dc0-a885-ca676c4e1c7c"
      },
      "source": [
        "num=int(input(\"enter the value of n:\"))\n",
        "if num < 0:\n",
        "   print(\"Enter a positive number\")\n",
        "else:\n",
        "   sum = 0\n",
        "   # use while loop to iterate until zero\n",
        "   while(num > 0):\n",
        "       sum += num\n",
        "       num -= 1\n",
        "   print(\"The sum is\", sum)"
      ],
      "execution_count": 2,
      "outputs": [
        {
          "output_type": "stream",
          "text": [
            "enter the value of n:12\n",
            "The sum is 78\n"
          ],
          "name": "stdout"
        }
      ]
    },
    {
      "cell_type": "markdown",
      "metadata": {
        "id": "SPTqHdPF1oE2",
        "colab_type": "text"
      },
      "source": [
        "2.take a integer and find prime or not"
      ]
    },
    {
      "cell_type": "code",
      "metadata": {
        "id": "KkGQ5-4P11_b",
        "colab_type": "code",
        "colab": {
          "base_uri": "https://localhost:8080/",
          "height": 34
        },
        "outputId": "3c3094cb-ee86-4f0c-b6d5-500d77be2af3"
      },
      "source": [
        "# Python program to check if  \n",
        "# given number is prime or not \n",
        "  \n",
        "num = 11\n",
        "  \n",
        "# If given number is greater than 1 \n",
        "if num > 1: \n",
        "      \n",
        "   # Iterate from 2 to n / 2  \n",
        "   for i in range(2, num): \n",
        "         \n",
        "       # If num is divisible by any number between  \n",
        "       # 2 and n / 2, it is not prime  \n",
        "       if (num % i) == 0: \n",
        "           print(num, \"is not a prime number\") \n",
        "           break\n",
        "   else: \n",
        "       print(num, \"is a prime number\") \n",
        "  \n",
        "else: \n",
        "   print(num, \"is not a prime number\") "
      ],
      "execution_count": 3,
      "outputs": [
        {
          "output_type": "stream",
          "text": [
            "11 is a prime number\n"
          ],
          "name": "stdout"
        }
      ]
    }
  ]
}