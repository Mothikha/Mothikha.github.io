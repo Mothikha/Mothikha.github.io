{
  "nbformat": 4,
  "nbformat_minor": 0,
  "metadata": {
    "colab": {
      "name": "Untitled0.ipynb",
      "provenance": [],
      "authorship_tag": "ABX9TyMdUNCpm88TwW/jg5DMiYHR",
      "include_colab_link": true
    },
    "kernelspec": {
      "name": "python3",
      "display_name": "Python 3"
    }
  },
  "cells": [
    {
      "cell_type": "markdown",
      "metadata": {
        "id": "view-in-github",
        "colab_type": "text"
      },
      "source": [
        "<a href=\"https://colab.research.google.com/github/Mothikha/Mothikha.github.io/blob/master/Untitled0.ipynb\" target=\"_parent\"><img src=\"https://colab.research.google.com/assets/colab-badge.svg\" alt=\"Open In Colab\"/></a>"
      ]
    },
    {
      "cell_type": "code",
      "metadata": {
        "id": "7gTrAWcUc15B",
        "colab_type": "code",
        "colab": {}
      },
      "source": [
        "1. what is python?what are the ways to install python in your pc?\n",
        "\n",
        "\n",
        "\n"
      ],
      "execution_count": null,
      "outputs": []
    },
    {
      "cell_type": "markdown",
      "metadata": {
        "id": "lcM224EmhCFx",
        "colab_type": "text"
      },
      "source": [
        "\n",
        "\n",
        "*   python is a popular programming language.\n",
        "\n",
        "*  It is used created by guido van rossum,and released in 1991.\n",
        "*  It is used for 1. web development 2.software development 3. mathematics 4.system scripting\n",
        "\n",
        "\n",
        "* python can be used on a server to create web applications\n",
        "\n",
        "*   python can be used to alongside software to create workflow.\n",
        "*   python can be used for rapid protyping ,or for production ready software development.\n",
        "\n",
        "*  python works on different platformwindows,mac,linux,etc)\n",
        "*  python runs on an interpreter system,meaning that code can be executed as soon as it is written. This means that protyping can be very quick.\n",
        "\n",
        "\n",
        "\n",
        "\n",
        "\n",
        "\n",
        "\n",
        "\n"
      ]
    },
    {
      "cell_type": "markdown",
      "metadata": {
        "id": "SudRx6jKkksS",
        "colab_type": "text"
      },
      "source": [
        "WAYS TO INSTALL PYTHON IN PC"
      ]
    },
    {
      "cell_type": "markdown",
      "metadata": {
        "id": "h3-TFBUKkwqt",
        "colab_type": "text"
      },
      "source": [
        "\n",
        "\n",
        "*   click python download.\n",
        "*   click the windows link(two lines below the download python 3.7.4 button)\n",
        "\n",
        "*   click on download window X86-64 executable installer link under the top-left stable releases .The opo-up nwindow titled opening python3.7.4-amd64.exe will appear.\n",
        "*   click the save file button.\n",
        "\n",
        "*  The file named python3.7.4-amd64.exe should start loading into your standard download folder.This file is about 30Mb so it might a while to download fully. \n",
        "*   The file should appear as python 3.7.4-amd64.exe\n",
        "\n",
        "*   move this file to a moe permanent location ,so that you can install python.\n",
        "*   feel free to explore this web page futher; if you to just continue the installation ,you can terminate the tab browsing this page. \n",
        "\n",
        "\n",
        "\n",
        " \n",
        "\n",
        "---\n",
        "\n",
        "\n",
        "\n",
        "\n",
        "\n",
        "\n",
        "\n",
        "\n",
        "\n",
        "\n",
        "\n"
      ]
    },
    {
      "cell_type": "markdown",
      "metadata": {
        "id": "TChTnL0ipFRU",
        "colab_type": "text"
      },
      "source": [
        "### 2. what are code enironements? types?"
      ]
    },
    {
      "cell_type": "markdown",
      "metadata": {
        "id": "b7tUPbr_pVZT",
        "colab_type": "text"
      },
      "source": [
        "# CODE ENVIRONEMNT:"
      ]
    },
    {
      "cell_type": "markdown",
      "metadata": {
        "id": "U06Wmi-Ypc-c",
        "colab_type": "text"
      },
      "source": [
        "\n",
        "\n",
        "*   A code environment is a standalone and self-contained environment to run python or Rcode.\n",
        "*   Each code environment has its own set of packages.\n",
        "\n",
        "*   Environments are independent : you can install different packages or different versions of packages in different environment without interaction between them.\n",
        "\n",
        "\n",
        "\n",
        "\n"
      ]
    },
    {
      "cell_type": "markdown",
      "metadata": {
        "id": "XONYcVYzqxQ5",
        "colab_type": "text"
      },
      "source": [
        "TYPES:"
      ]
    },
    {
      "cell_type": "markdown",
      "metadata": {
        "id": "T7exL1Aeq0PL",
        "colab_type": "text"
      },
      "source": [
        "\n",
        "\n",
        "\n",
        "*   Pycharm\n",
        "*  Spyder\n",
        "\n",
        "*  IDLE\n",
        "*  Pydev\n",
        "\n",
        "\n",
        "\n",
        "\n",
        "\n",
        "\n",
        "\n",
        "\n",
        "\n",
        "\n"
      ]
    },
    {
      "cell_type": "markdown",
      "metadata": {
        "id": "9ADWuuS-rOli",
        "colab_type": "text"
      },
      "source": [
        "\n",
        "\n",
        "---\n",
        "\n",
        "\n",
        "\n",
        "---\n",
        "\n"
      ]
    },
    {
      "cell_type": "markdown",
      "metadata": {
        "id": "20f0d4cDrQ9q",
        "colab_type": "text"
      },
      "source": [
        ""
      ]
    },
    {
      "cell_type": "code",
      "metadata": {
        "id": "Veh6sYbUrSSR",
        "colab_type": "code",
        "colab": {}
      },
      "source": [
        ""
      ],
      "execution_count": null,
      "outputs": []
    },
    {
      "cell_type": "code",
      "metadata": {
        "id": "gWwi9y1-rTdR",
        "colab_type": "code",
        "colab": {}
      },
      "source": [
        ""
      ],
      "execution_count": null,
      "outputs": []
    }
  ]
}