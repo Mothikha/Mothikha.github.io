{
  "nbformat": 4,
  "nbformat_minor": 0,
  "metadata": {
    "colab": {
      "name": "Untitled8.ipynb",
      "provenance": [],
      "authorship_tag": "ABX9TyPl5DdiqIM4JYfxLzoNTIFx",
      "include_colab_link": true
    },
    "kernelspec": {
      "name": "python3",
      "display_name": "Python 3"
    }
  },
  "cells": [
    {
      "cell_type": "markdown",
      "metadata": {
        "id": "view-in-github",
        "colab_type": "text"
      },
      "source": [
        "<a href=\"https://colab.research.google.com/github/Mothikha/Mothikha.github.io/blob/master/Untitled8.ipynb\" target=\"_parent\"><img src=\"https://colab.research.google.com/assets/colab-badge.svg\" alt=\"Open In Colab\"/></a>"
      ]
    },
    {
      "cell_type": "markdown",
      "metadata": {
        "id": "sKDgPzsGvMvS",
        "colab_type": "text"
      },
      "source": [
        "PYTHON ESSENTIALS ASSIGNMENT-5"
      ]
    },
    {
      "cell_type": "markdown",
      "metadata": {
        "id": "p_rYXsPnxcFq",
        "colab_type": "text"
      },
      "source": [
        "ASSIGNMENT-1"
      ]
    },
    {
      "cell_type": "markdown",
      "metadata": {
        "id": "WxYBw2d-xn2S",
        "colab_type": "text"
      },
      "source": [
        "1.{0,1,2,10,4,1,0,56,2,0,1,3,0,56,0,4} Sort Ascending order but all zeros should be at right hand side ."
      ]
    },
    {
      "cell_type": "markdown",
      "metadata": {
        "id": "f3jkgzD51pxd",
        "colab_type": "text"
      },
      "source": [
        "In [17]:"
      ]
    },
    {
      "cell_type": "code",
      "metadata": {
        "id": "DqkvXECZ1smz",
        "colab_type": "code",
        "colab": {
          "base_uri": "https://localhost:8080/",
          "height": 34
        },
        "outputId": "5a3fa7c4-f876-48fe-9f38-2c88b0ee0259"
      },
      "source": [
        "def move_zero(num_list):\n",
        "    a = [0 for i in range(num_list.count(0))]\n",
        "    x = [ i for i in num_list if i != 0]\n",
        "    x.extend(a)\n",
        "    return(x)\n",
        "\n",
        "print(move_zero([0,1,2,10,4,1,0,56,2,0,1,3,0,56,0,4]))"
      ],
      "execution_count": null,
      "outputs": [
        {
          "output_type": "stream",
          "text": [
            "[1, 2, 10, 4, 1, 56, 2, 1, 3, 56, 4, 0, 0, 0, 0, 0]\n"
          ],
          "name": "stdout"
        }
      ]
    },
    {
      "cell_type": "markdown",
      "metadata": {
        "id": "UX_3r3JO1_w7",
        "colab_type": "text"
      },
      "source": [
        "ASSIGNMENT-2"
      ]
    },
    {
      "cell_type": "markdown",
      "metadata": {
        "id": "kjSiHG-X2A5Z",
        "colab_type": "text"
      },
      "source": [
        "list1 = [10,20,40,60,70,80] list2 = [5,15,25,35,45,60] Merge these two sorted list produce one sorted list but use only one loop for that using while or for loop only one time ."
      ]
    },
    {
      "cell_type": "markdown",
      "metadata": {
        "id": "c_gxePZ42GhT",
        "colab_type": "text"
      },
      "source": [
        "In [23]:"
      ]
    },
    {
      "cell_type": "code",
      "metadata": {
        "id": "RCQJcg172HfS",
        "colab_type": "code",
        "colab": {
          "base_uri": "https://localhost:8080/",
          "height": 34
        },
        "outputId": "a82eecb7-f08d-45d4-eac5-4b446c0ca1aa"
      },
      "source": [
        ">>> l1 = [10,20,40,60,70,80]\n",
        ">>> l2 = [5,15,25,35,45,60]\n",
        ">>> l1.extend(l2)\n",
        ">>> sorted(l1)"
      ],
      "execution_count": null,
      "outputs": [
        {
          "output_type": "execute_result",
          "data": {
            "text/plain": [
              "[5, 10, 15, 20, 25, 35, 40, 45, 60, 60, 70, 80]"
            ]
          },
          "metadata": {
            "tags": []
          },
          "execution_count": 2
        }
      ]
    }
  ]
}