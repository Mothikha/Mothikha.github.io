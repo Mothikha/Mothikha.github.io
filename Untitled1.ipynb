{
  "nbformat": 4,
  "nbformat_minor": 0,
  "metadata": {
    "colab": {
      "name": "Untitled1.ipynb",
      "provenance": [],
      "authorship_tag": "ABX9TyM9FaO2cfonXfT8WkMek5SN",
      "include_colab_link": true
    },
    "kernelspec": {
      "name": "python3",
      "display_name": "Python 3"
    }
  },
  "cells": [
    {
      "cell_type": "markdown",
      "metadata": {
        "id": "view-in-github",
        "colab_type": "text"
      },
      "source": [
        "<a href=\"https://colab.research.google.com/github/Mothikha/Mothikha.github.io/blob/master/Untitled1.ipynb\" target=\"_parent\"><img src=\"https://colab.research.google.com/assets/colab-badge.svg\" alt=\"Open In Colab\"/></a>"
      ]
    },
    {
      "cell_type": "code",
      "metadata": {
        "id": "Tp1S7O6GuCnG",
        "colab_type": "code",
        "colab": {}
      },
      "source": [
        ""
      ],
      "execution_count": 1,
      "outputs": []
    },
    {
      "cell_type": "markdown",
      "metadata": {
        "id": "8siBRRXXuffH",
        "colab_type": "text"
      },
      "source": [
        "# PYTHON ESSENTIALS \n",
        "# ASSIGNMENT-2"
      ]
    },
    {
      "cell_type": "markdown",
      "metadata": {
        "id": "dGOEWr9zutZ7",
        "colab_type": "text"
      },
      "source": [
        "In[1]:\n"
      ]
    },
    {
      "cell_type": "markdown",
      "metadata": {
        "id": "SP1D-4JrvLAK",
        "colab_type": "text"
      },
      "source": [
        ""
      ]
    },
    {
      "cell_type": "code",
      "metadata": {
        "id": "GcpgA75CvTmK",
        "colab_type": "code",
        "colab": {
          "base_uri": "https://localhost:8080/",
          "height": 34
        },
        "outputId": "0a88b83a-2164-41a1-9a00-c89e19f7bf33"
      },
      "source": [
        "print(\"hello\")"
      ],
      "execution_count": 2,
      "outputs": [
        {
          "output_type": "stream",
          "text": [
            "hello\n"
          ],
          "name": "stdout"
        }
      ]
    },
    {
      "cell_type": "markdown",
      "metadata": {
        "id": "dc8klNzgwgA2",
        "colab_type": "text"
      },
      "source": [
        "In[2]:"
      ]
    },
    {
      "cell_type": "code",
      "metadata": {
        "id": "EEbqzx2pxAlW",
        "colab_type": "code",
        "colab": {
          "base_uri": "https://localhost:8080/",
          "height": 34
        },
        "outputId": "671cfc80-8619-4106-b5d9-d8e47e4d02d8"
      },
      "source": [
        "print(\"hello/python\")"
      ],
      "execution_count": 3,
      "outputs": [
        {
          "output_type": "stream",
          "text": [
            "hello/python\n"
          ],
          "name": "stdout"
        }
      ]
    },
    {
      "cell_type": "markdown",
      "metadata": {
        "id": "vSzpcDc5xT-E",
        "colab_type": "text"
      },
      "source": [
        "In[4]:"
      ]
    },
    {
      "cell_type": "code",
      "metadata": {
        "id": "o-mMsA2LxqTm",
        "colab_type": "code",
        "colab": {
          "base_uri": "https://localhost:8080/",
          "height": 34
        },
        "outputId": "889dcdd7-3766-4489-c7ad-7cbf5f753ca8"
      },
      "source": [
        "print(\"hello \\\n",
        "python\")"
      ],
      "execution_count": 6,
      "outputs": [
        {
          "output_type": "stream",
          "text": [
            "hello python\n"
          ],
          "name": "stdout"
        }
      ]
    },
    {
      "cell_type": "markdown",
      "metadata": {
        "id": "-GEN81pfx_Xd",
        "colab_type": "text"
      },
      "source": [
        "In[5]:"
      ]
    },
    {
      "cell_type": "code",
      "metadata": {
        "id": "Vupw51luyDKN",
        "colab_type": "code",
        "colab": {
          "base_uri": "https://localhost:8080/",
          "height": 35
        },
        "outputId": "a8698a96-36ba-451d-da71-88c46875bcac"
      },
      "source": [
        "\"\"\"    (\")......(\")\n",
        "(' 0 ')\n",
        "(\")_(\")\n",
        "(\"\"')_(\"\"')\"\"\""
      ],
      "execution_count": 7,
      "outputs": [
        {
          "output_type": "execute_result",
          "data": {
            "application/vnd.google.colaboratory.intrinsic+json": {
              "type": "string"
            },
            "text/plain": [
              "'    (\")......(\")\\n(\\' 0 \\')\\n(\")_(\")\\n(\"\"\\')_(\"\"\\')'"
            ]
          },
          "metadata": {
            "tags": []
          },
          "execution_count": 7
        }
      ]
    },
    {
      "cell_type": "markdown",
      "metadata": {
        "id": "2bGMMCPXy81E",
        "colab_type": "text"
      },
      "source": [
        "In[6]:"
      ]
    },
    {
      "cell_type": "code",
      "metadata": {
        "id": "7FPbCVaQzdUD",
        "colab_type": "code",
        "colab": {
          "base_uri": "https://localhost:8080/",
          "height": 34
        },
        "outputId": "c0512a55-6478-4b30-9ebf-6fe056816038"
      },
      "source": [
        "print('hello world')"
      ],
      "execution_count": 8,
      "outputs": [
        {
          "output_type": "stream",
          "text": [
            "hello world\n"
          ],
          "name": "stdout"
        }
      ]
    },
    {
      "cell_type": "markdown",
      "metadata": {
        "id": "liSJTBhCzkfi",
        "colab_type": "text"
      },
      "source": [
        "In[7]:"
      ]
    },
    {
      "cell_type": "code",
      "metadata": {
        "id": "oODRvaMwzoRb",
        "colab_type": "code",
        "colab": {
          "base_uri": "https://localhost:8080/",
          "height": 34
        },
        "outputId": "c2783ca4-ed65-43e7-d582-20e8b7cef278"
      },
      "source": [
        "print(\"python's world\")"
      ],
      "execution_count": 10,
      "outputs": [
        {
          "output_type": "stream",
          "text": [
            "python's world\n"
          ],
          "name": "stdout"
        }
      ]
    },
    {
      "cell_type": "markdown",
      "metadata": {
        "id": "3evYTvKaz5Tr",
        "colab_type": "text"
      },
      "source": [
        "In[9]:"
      ]
    },
    {
      "cell_type": "code",
      "metadata": {
        "id": "v29rXViL0AuC",
        "colab_type": "code",
        "colab": {
          "base_uri": "https://localhost:8080/",
          "height": 51
        },
        "outputId": "27d19f98-5228-42c8-9dfb-944cacaabd28"
      },
      "source": [
        "print(\"hello\\nPython\")"
      ],
      "execution_count": 11,
      "outputs": [
        {
          "output_type": "stream",
          "text": [
            "hello\n",
            "Python\n"
          ],
          "name": "stdout"
        }
      ]
    },
    {
      "cell_type": "markdown",
      "metadata": {
        "id": "1hs6IwK30PRx",
        "colab_type": "text"
      },
      "source": [
        "In[10]:"
      ]
    },
    {
      "cell_type": "code",
      "metadata": {
        "id": "QpRmtk3b0XNq",
        "colab_type": "code",
        "colab": {
          "base_uri": "https://localhost:8080/",
          "height": 34
        },
        "outputId": "1904d4de-205d-4376-d667-7c4c9c36fede"
      },
      "source": [
        "print('python\\'s World')"
      ],
      "execution_count": 12,
      "outputs": [
        {
          "output_type": "stream",
          "text": [
            "python's World\n"
          ],
          "name": "stdout"
        }
      ]
    },
    {
      "cell_type": "markdown",
      "metadata": {
        "id": "tVZ8GK1s01Sv",
        "colab_type": "text"
      },
      "source": [
        "In[11]:"
      ]
    },
    {
      "cell_type": "code",
      "metadata": {
        "id": "Oiav9y_l0_t4",
        "colab_type": "code",
        "colab": {
          "base_uri": "https://localhost:8080/",
          "height": 34
        },
        "outputId": "bf5d6d98-d535-4ab3-8519-f994d36cb91d"
      },
      "source": [
        "print(\"hello\\aPython\")"
      ],
      "execution_count": 13,
      "outputs": [
        {
          "output_type": "stream",
          "text": [
            "hello\u0007Python\n"
          ],
          "name": "stdout"
        }
      ]
    },
    {
      "cell_type": "markdown",
      "metadata": {
        "id": "77QF7dik1LHY",
        "colab_type": "text"
      },
      "source": [
        "In[12]:"
      ]
    },
    {
      "cell_type": "code",
      "metadata": {
        "id": "2sgqwAIb1QQB",
        "colab_type": "code",
        "colab": {
          "base_uri": "https://localhost:8080/",
          "height": 34
        },
        "outputId": "f6589d7a-ce1c-43b8-baa1-0024f9a1e91c"
      },
      "source": [
        "print('python\\'s World')"
      ],
      "execution_count": 14,
      "outputs": [
        {
          "output_type": "stream",
          "text": [
            "python's World\n"
          ],
          "name": "stdout"
        }
      ]
    },
    {
      "cell_type": "markdown",
      "metadata": {
        "id": "0D4w3Tnw1Z5H",
        "colab_type": "text"
      },
      "source": [
        "In[13]:"
      ]
    },
    {
      "cell_type": "code",
      "metadata": {
        "id": "8GJE8xwj1eJm",
        "colab_type": "code",
        "colab": {
          "base_uri": "https://localhost:8080/",
          "height": 34
        },
        "outputId": "a5492d7a-e2e1-4465-cb44-c8090869f02e"
      },
      "source": [
        "name=\"XYZ\"\n",
        "marks=\"90\"\n",
        "age=\"20\"\n",
        "print(\"The name of person is\",name,\"marks is\",marks,\"age is\",age)"
      ],
      "execution_count": 16,
      "outputs": [
        {
          "output_type": "stream",
          "text": [
            "The name of person is XYZ marks is 90 age is 20\n"
          ],
          "name": "stdout"
        }
      ]
    },
    {
      "cell_type": "markdown",
      "metadata": {
        "id": "bLLwEL_T3QBF",
        "colab_type": "text"
      },
      "source": [
        "In[18]:"
      ]
    },
    {
      "cell_type": "code",
      "metadata": {
        "id": "Jp_qj5Zw3anE",
        "colab_type": "code",
        "colab": {
          "base_uri": "https://localhost:8080/",
          "height": 34
        },
        "outputId": "6acb2ec9-e1bf-402e-9629-4ad42f33cbc3"
      },
      "source": [
        "print(f\"The name of person is {name}the mark of person is{90.876} age is {age}\")"
      ],
      "execution_count": 19,
      "outputs": [
        {
          "output_type": "stream",
          "text": [
            "The name of person is XYZthe mark of person is90.876 age is 20\n"
          ],
          "name": "stdout"
        }
      ]
    },
    {
      "cell_type": "markdown",
      "metadata": {
        "id": "Er_OBuMJ4O_b",
        "colab_type": "text"
      },
      "source": [
        "In[19]:"
      ]
    },
    {
      "cell_type": "code",
      "metadata": {
        "id": "4xb3Vk3g4TWI",
        "colab_type": "code",
        "colab": {
          "base_uri": "https://localhost:8080/",
          "height": 34
        },
        "outputId": "8164f0dd-16d5-4625-81ef-1b4ca5077ae6"
      },
      "source": [
        "print(\"hello\\a\")"
      ],
      "execution_count": 20,
      "outputs": [
        {
          "output_type": "stream",
          "text": [
            "hello\u0007\n"
          ],
          "name": "stdout"
        }
      ]
    },
    {
      "cell_type": "markdown",
      "metadata": {
        "id": "HgWM9fS74br5",
        "colab_type": "text"
      },
      "source": [
        "In[20]:"
      ]
    },
    {
      "cell_type": "code",
      "metadata": {
        "id": "uucgpoRj4ekz",
        "colab_type": "code",
        "colab": {}
      },
      "source": [
        "X=Y=10"
      ],
      "execution_count": 26,
      "outputs": []
    },
    {
      "cell_type": "markdown",
      "metadata": {
        "id": "sUw4oI0i4lQK",
        "colab_type": "text"
      },
      "source": [
        "In[21]:"
      ]
    },
    {
      "cell_type": "code",
      "metadata": {
        "id": "IKFbjYDv4q2c",
        "colab_type": "code",
        "colab": {
          "base_uri": "https://localhost:8080/",
          "height": 34
        },
        "outputId": "0faa9be3-d48b-4ed7-947d-c7d8551d0580"
      },
      "source": [
        "X"
      ],
      "execution_count": 27,
      "outputs": [
        {
          "output_type": "execute_result",
          "data": {
            "text/plain": [
              "10"
            ]
          },
          "metadata": {
            "tags": []
          },
          "execution_count": 27
        }
      ]
    },
    {
      "cell_type": "markdown",
      "metadata": {
        "id": "4ERsUorh45eD",
        "colab_type": "text"
      },
      "source": [
        "In[22]:"
      ]
    },
    {
      "cell_type": "code",
      "metadata": {
        "id": "66cJlXvH48j_",
        "colab_type": "code",
        "colab": {
          "base_uri": "https://localhost:8080/",
          "height": 34
        },
        "outputId": "a73209fa-4f92-4bbe-da5b-ce4b4b9a7a17"
      },
      "source": [
        "Y"
      ],
      "execution_count": 28,
      "outputs": [
        {
          "output_type": "execute_result",
          "data": {
            "text/plain": [
              "10"
            ]
          },
          "metadata": {
            "tags": []
          },
          "execution_count": 28
        }
      ]
    },
    {
      "cell_type": "markdown",
      "metadata": {
        "id": "uk3u3jru5BVh",
        "colab_type": "text"
      },
      "source": [
        "In[23]:"
      ]
    },
    {
      "cell_type": "code",
      "metadata": {
        "id": "EHdVFnF15EUB",
        "colab_type": "code",
        "colab": {}
      },
      "source": [
        "X=10"
      ],
      "execution_count": 31,
      "outputs": []
    },
    {
      "cell_type": "markdown",
      "metadata": {
        "id": "vgMaSi3L5MfS",
        "colab_type": "text"
      },
      "source": [
        "In[24]:"
      ]
    },
    {
      "cell_type": "code",
      "metadata": {
        "id": "elD4k6Im5RwA",
        "colab_type": "code",
        "colab": {
          "base_uri": "https://localhost:8080/",
          "height": 34
        },
        "outputId": "9f56c9d7-af94-414a-d8f1-1978a3be454f"
      },
      "source": [
        "id(X)"
      ],
      "execution_count": 32,
      "outputs": [
        {
          "output_type": "execute_result",
          "data": {
            "text/plain": [
              "10914784"
            ]
          },
          "metadata": {
            "tags": []
          },
          "execution_count": 32
        }
      ]
    },
    {
      "cell_type": "markdown",
      "metadata": {
        "id": "z4c_lcbZ5fha",
        "colab_type": "text"
      },
      "source": [
        "In[25]:"
      ]
    },
    {
      "cell_type": "code",
      "metadata": {
        "id": "IDtIiiqM5kQ_",
        "colab_type": "code",
        "colab": {}
      },
      "source": [
        "Y=20"
      ],
      "execution_count": 33,
      "outputs": []
    },
    {
      "cell_type": "markdown",
      "metadata": {
        "id": "4-JhDzll5pPe",
        "colab_type": "text"
      },
      "source": [
        "In[26]:"
      ]
    },
    {
      "cell_type": "code",
      "metadata": {
        "id": "Op0YjoBi5vI-",
        "colab_type": "code",
        "colab": {
          "base_uri": "https://localhost:8080/",
          "height": 34
        },
        "outputId": "62cc9aad-a7cc-4192-cf0e-71b3015a5d88"
      },
      "source": [
        "id(Y)"
      ],
      "execution_count": 34,
      "outputs": [
        {
          "output_type": "execute_result",
          "data": {
            "text/plain": [
              "10915104"
            ]
          },
          "metadata": {
            "tags": []
          },
          "execution_count": 34
        }
      ]
    },
    {
      "cell_type": "markdown",
      "metadata": {
        "id": "-1sa6LMY55pv",
        "colab_type": "text"
      },
      "source": [
        "In[27]:"
      ]
    },
    {
      "cell_type": "code",
      "metadata": {
        "id": "cTBr5KuB5-Dg",
        "colab_type": "code",
        "colab": {}
      },
      "source": [
        "del Y\n",
        "X=Y=20"
      ],
      "execution_count": 36,
      "outputs": []
    },
    {
      "cell_type": "markdown",
      "metadata": {
        "id": "IByRMaE66NaP",
        "colab_type": "text"
      },
      "source": [
        "In[28]:"
      ]
    },
    {
      "cell_type": "code",
      "metadata": {
        "id": "9bwXvibm6ScO",
        "colab_type": "code",
        "colab": {
          "base_uri": "https://localhost:8080/",
          "height": 34
        },
        "outputId": "b81de916-2cf8-4da4-d2c5-8b4525f0ebbd"
      },
      "source": [
        "Y"
      ],
      "execution_count": 37,
      "outputs": [
        {
          "output_type": "execute_result",
          "data": {
            "text/plain": [
              "20"
            ]
          },
          "metadata": {
            "tags": []
          },
          "execution_count": 37
        }
      ]
    },
    {
      "cell_type": "markdown",
      "metadata": {
        "id": "WYbQZuli6YVA",
        "colab_type": "text"
      },
      "source": [
        "In[29]:"
      ]
    },
    {
      "cell_type": "code",
      "metadata": {
        "id": "QXwJOUTT6aoe",
        "colab_type": "code",
        "colab": {
          "base_uri": "https://localhost:8080/",
          "height": 34
        },
        "outputId": "ba26b54a-bb2b-44e9-c20f-36d2ae8c86eb"
      },
      "source": [
        "X"
      ],
      "execution_count": 38,
      "outputs": [
        {
          "output_type": "execute_result",
          "data": {
            "text/plain": [
              "20"
            ]
          },
          "metadata": {
            "tags": []
          },
          "execution_count": 38
        }
      ]
    },
    {
      "cell_type": "markdown",
      "metadata": {
        "id": "9_HyU1Ha6f7Q",
        "colab_type": "text"
      },
      "source": [
        "In[30]:"
      ]
    },
    {
      "cell_type": "code",
      "metadata": {
        "id": "IpHaN1kz6kH1",
        "colab_type": "code",
        "colab": {
          "base_uri": "https://localhost:8080/",
          "height": 34
        },
        "outputId": "0577670a-a1e3-42de-9636-1dffdc5715b1"
      },
      "source": [
        "10-20"
      ],
      "execution_count": 39,
      "outputs": [
        {
          "output_type": "execute_result",
          "data": {
            "text/plain": [
              "-10"
            ]
          },
          "metadata": {
            "tags": []
          },
          "execution_count": 39
        }
      ]
    }
  ]
}